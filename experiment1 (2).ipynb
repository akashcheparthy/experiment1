{
 "cells": [
  {
   "cell_type": "code",
   "execution_count": 1,
   "id": "a6771d88",
   "metadata": {},
   "outputs": [
    {
     "name": "stdout",
     "output_type": "stream",
     "text": [
      "My mane is Cheparthy Akash\n"
     ]
    }
   ],
   "source": [
    "print(\"My mane is Cheparthy Akash\")"
   ]
  },
  {
   "cell_type": "code",
   "execution_count": 2,
   "id": "eaf6c753",
   "metadata": {},
   "outputs": [
    {
     "name": "stdout",
     "output_type": "stream",
     "text": [
      "My Roll No:A20405219055\n"
     ]
    }
   ],
   "source": [
    "print(\"My Roll No:A20405219055\")"
   ]
  },
  {
   "cell_type": "code",
   "execution_count": 3,
   "id": "7df798c7",
   "metadata": {},
   "outputs": [
    {
     "data": {
      "text/plain": [
       "34"
      ]
     },
     "execution_count": 3,
     "metadata": {},
     "output_type": "execute_result"
    }
   ],
   "source": [
    "20+14"
   ]
  },
  {
   "cell_type": "code",
   "execution_count": 4,
   "id": "23e1c665",
   "metadata": {},
   "outputs": [
    {
     "name": "stdout",
     "output_type": "stream",
     "text": [
      "Hello\n"
     ]
    }
   ],
   "source": [
    "print(\"Hello\")"
   ]
  },
  {
   "cell_type": "code",
   "execution_count": 5,
   "id": "f8a999d4",
   "metadata": {},
   "outputs": [
    {
     "data": {
      "text/plain": [
       "25"
      ]
     },
     "execution_count": 5,
     "metadata": {},
     "output_type": "execute_result"
    }
   ],
   "source": [
    "45-20"
   ]
  },
  {
   "cell_type": "code",
   "execution_count": 6,
   "id": "86b2aeb2",
   "metadata": {},
   "outputs": [
    {
     "data": {
      "text/plain": [
       "24"
      ]
     },
     "execution_count": 6,
     "metadata": {},
     "output_type": "execute_result"
    }
   ],
   "source": [
    "8*3"
   ]
  },
  {
   "cell_type": "code",
   "execution_count": 7,
   "id": "a167cfad",
   "metadata": {},
   "outputs": [
    {
     "data": {
      "text/plain": [
       "512"
      ]
     },
     "execution_count": 7,
     "metadata": {},
     "output_type": "execute_result"
    }
   ],
   "source": [
    "8**3"
   ]
  },
  {
   "cell_type": "code",
   "execution_count": 8,
   "id": "8a7a2520",
   "metadata": {},
   "outputs": [
    {
     "data": {
      "text/plain": [
       "4.5"
      ]
     },
     "execution_count": 8,
     "metadata": {},
     "output_type": "execute_result"
    }
   ],
   "source": [
    "9/2"
   ]
  },
  {
   "cell_type": "code",
   "execution_count": 9,
   "id": "7c5f6ef6",
   "metadata": {},
   "outputs": [
    {
     "data": {
      "text/plain": [
       "4"
      ]
     },
     "execution_count": 9,
     "metadata": {},
     "output_type": "execute_result"
    }
   ],
   "source": [
    "9//2"
   ]
  },
  {
   "cell_type": "code",
   "execution_count": 10,
   "id": "aef64733",
   "metadata": {},
   "outputs": [
    {
     "name": "stdout",
     "output_type": "stream",
     "text": [
      "Rohan's age is 20\n"
     ]
    }
   ],
   "source": [
    "print(\"Rohan's age is\",20)"
   ]
  },
  {
   "cell_type": "code",
   "execution_count": 11,
   "id": "95db58c7",
   "metadata": {},
   "outputs": [
    {
     "name": "stdout",
     "output_type": "stream",
     "text": [
      "I am B.tech Student year 3\n"
     ]
    }
   ],
   "source": [
    " print(\"I\",\"am\",\"B.tech Student\",\"year\",3)"
   ]
  },
  {
   "cell_type": "code",
   "execution_count": 12,
   "id": "b51303bb",
   "metadata": {},
   "outputs": [],
   "source": [
    "a=20"
   ]
  },
  {
   "cell_type": "code",
   "execution_count": 13,
   "id": "797310a8",
   "metadata": {},
   "outputs": [
    {
     "name": "stdout",
     "output_type": "stream",
     "text": [
      "value of a is 20\n"
     ]
    }
   ],
   "source": [
    "print(\"value of a is\",a)"
   ]
  },
  {
   "cell_type": "code",
   "execution_count": 14,
   "id": "a0f1e86d",
   "metadata": {},
   "outputs": [
    {
     "name": "stdout",
     "output_type": "stream",
     "text": [
      "20 20 30\n"
     ]
    }
   ],
   "source": [
    "b=20\n",
    "c=30\n",
    "print(a,b,c)"
   ]
  },
  {
   "cell_type": "code",
   "execution_count": 15,
   "id": "524e12b2",
   "metadata": {},
   "outputs": [
    {
     "name": "stdout",
     "output_type": "stream",
     "text": [
      "<class 'int'>\n"
     ]
    }
   ],
   "source": [
    "a=2000\n",
    "print(type(a))"
   ]
  },
  {
   "cell_type": "code",
   "execution_count": 16,
   "id": "3f497d1e",
   "metadata": {},
   "outputs": [
    {
     "name": "stdout",
     "output_type": "stream",
     "text": [
      "<class 'str'>\n"
     ]
    }
   ],
   "source": [
    "d=\"m\"\n",
    "print(type(d))"
   ]
  },
  {
   "cell_type": "code",
   "execution_count": 17,
   "id": "20b99953",
   "metadata": {},
   "outputs": [
    {
     "name": "stdout",
     "output_type": "stream",
     "text": [
      "<class 'str'>\n"
     ]
    }
   ],
   "source": [
    "d='m'\n",
    "print(type(d))"
   ]
  },
  {
   "cell_type": "code",
   "execution_count": 18,
   "id": "e8f11e5d",
   "metadata": {},
   "outputs": [
    {
     "name": "stdout",
     "output_type": "stream",
     "text": [
      "2.5\n",
      "<class 'float'>\n"
     ]
    }
   ],
   "source": [
    "A=2.5 \n",
    "\n",
    "print(A) \n",
    "\n",
    "print(type(A))"
   ]
  },
  {
   "cell_type": "code",
   "execution_count": 19,
   "id": "cd910cfd",
   "metadata": {},
   "outputs": [
    {
     "name": "stdout",
     "output_type": "stream",
     "text": [
      "True\n",
      "<class 'bool'>\n"
     ]
    }
   ],
   "source": [
    "Status=True \n",
    "\n",
    "print(Status) \n",
    "\n",
    "print(type(Status))\n"
   ]
  },
  {
   "cell_type": "code",
   "execution_count": 20,
   "id": "5267d498",
   "metadata": {},
   "outputs": [],
   "source": [
    "A=50 "
   ]
  },
  {
   "cell_type": "code",
   "execution_count": 21,
   "id": "0b620d3e",
   "metadata": {},
   "outputs": [],
   "source": [
    "B=50"
   ]
  },
  {
   "cell_type": "code",
   "execution_count": 22,
   "id": "2e1522f4",
   "metadata": {},
   "outputs": [
    {
     "name": "stdout",
     "output_type": "stream",
     "text": [
      "50\n"
     ]
    }
   ],
   "source": [
    "print(A)"
   ]
  },
  {
   "cell_type": "code",
   "execution_count": 23,
   "id": "151fc519",
   "metadata": {},
   "outputs": [
    {
     "name": "stdout",
     "output_type": "stream",
     "text": [
      "50\n"
     ]
    }
   ],
   "source": [
    "print(B)"
   ]
  },
  {
   "cell_type": "code",
   "execution_count": 25,
   "id": "ff099549",
   "metadata": {},
   "outputs": [
    {
     "name": "stdout",
     "output_type": "stream",
     "text": [
      "140733508431184\n"
     ]
    }
   ],
   "source": [
    "print(id(A)) "
   ]
  },
  {
   "cell_type": "code",
   "execution_count": 26,
   "id": "aa441865",
   "metadata": {},
   "outputs": [
    {
     "name": "stdout",
     "output_type": "stream",
     "text": [
      "140733508431184\n"
     ]
    }
   ],
   "source": [
    "print(id(B)) "
   ]
  },
  {
   "cell_type": "code",
   "execution_count": 27,
   "id": "c18c144e",
   "metadata": {},
   "outputs": [
    {
     "name": "stdout",
     "output_type": "stream",
     "text": [
      "50 50\n"
     ]
    }
   ],
   "source": [
    "print(A,B) "
   ]
  },
  {
   "cell_type": "code",
   "execution_count": 28,
   "id": "41b11257",
   "metadata": {},
   "outputs": [
    {
     "name": "stdout",
     "output_type": "stream",
     "text": [
      "140733508431184 140733508431184\n"
     ]
    }
   ],
   "source": [
    "print(id(A),id(B)) "
   ]
  },
  {
   "cell_type": "code",
   "execution_count": 29,
   "id": "9f9106da",
   "metadata": {},
   "outputs": [
    {
     "name": "stdout",
     "output_type": "stream",
     "text": [
      "45\n"
     ]
    }
   ],
   "source": [
    "print(int(45.67)) "
   ]
  },
  {
   "cell_type": "code",
   "execution_count": 30,
   "id": "a35ce6f2",
   "metadata": {},
   "outputs": [
    {
     "name": "stdout",
     "output_type": "stream",
     "text": [
      "45.0\n"
     ]
    }
   ],
   "source": [
    "print(float(45)) "
   ]
  },
  {
   "cell_type": "code",
   "execution_count": 32,
   "id": "4f0c5db6",
   "metadata": {},
   "outputs": [
    {
     "name": "stdout",
     "output_type": "stream",
     "text": [
      "123\n"
     ]
    }
   ],
   "source": [
    "print(int('123'))"
   ]
  },
  {
   "cell_type": "code",
   "execution_count": 33,
   "id": "1e125177",
   "metadata": {},
   "outputs": [
    {
     "name": "stdout",
     "output_type": "stream",
     "text": [
      "123\n"
     ]
    }
   ],
   "source": [
    "print(str(\"123\"))"
   ]
  },
  {
   "cell_type": "code",
   "execution_count": 34,
   "id": "5ba50fc9",
   "metadata": {},
   "outputs": [
    {
     "name": "stdout",
     "output_type": "stream",
     "text": [
      "welcome\n"
     ]
    }
   ],
   "source": [
    "#1.write a python program to print 'Welcome'\n",
    "print(\"welcome\")"
   ]
  },
  {
   "cell_type": "code",
   "execution_count": 36,
   "id": "4ddefcbe",
   "metadata": {},
   "outputs": [
    {
     "name": "stdout",
     "output_type": "stream",
     "text": [
      "1 <class 'int'>\n",
      "1.1 <class 'float'>\n",
      "(2+3j) <class 'complex'>\n"
     ]
    }
   ],
   "source": [
    "#2.Write a Python Program to initialize all Numeric Data type variables and display.\n",
    "a=1\n",
    "b=1.1\n",
    "c=2+3j\n",
    "print(a,type(a))\n",
    "print(b,type(b))\n",
    "print(c,type(c))"
   ]
  },
  {
   "cell_type": "code",
   "execution_count": 39,
   "id": "379d8dfa",
   "metadata": {},
   "outputs": [
    {
     "name": "stdout",
     "output_type": "stream",
     "text": [
      "30\n",
      "-10\n",
      "200\n",
      "0.5\n"
     ]
    }
   ],
   "source": [
    "#3.Write python program to use all arithmetic operators. \n",
    "x=10\n",
    "y=20\n",
    "print(x+y)\n",
    "print(x-y)\n",
    "print(x*y)\n",
    "print(x/y)"
   ]
  },
  {
   "cell_type": "code",
   "execution_count": 41,
   "id": "f0375d15",
   "metadata": {},
   "outputs": [
    {
     "name": "stdout",
     "output_type": "stream",
     "text": [
      "a is 19\n",
      "b is 20\n",
      "a>b is False\n",
      "a<b is  True\n"
     ]
    }
   ],
   "source": [
    "#4.Write python program to use all relational operators.\n",
    "a=19\n",
    "b=20\n",
    "print('a is',a)\n",
    "print('b is',b)\n",
    "print(\"a>b is\",a>b)\n",
    "print(\"a<b is \",a<b)\n",
    "\n"
   ]
  },
  {
   "cell_type": "code",
   "execution_count": 50,
   "id": "3f1c195b",
   "metadata": {},
   "outputs": [
    {
     "name": "stdout",
     "output_type": "stream",
     "text": [
      "and operator False\n",
      "or operator True\n",
      "nand operator True\n",
      "not operator a False\n",
      "not operator b True\n"
     ]
    }
   ],
   "source": [
    "#5.Write python program to use all logical operators. \n",
    "a=True\n",
    "b=False\n",
    "print(\"and operator\",a and b)\n",
    "print(\"or operator\",a or b)\n",
    "print(\"nand operator\",not(a and b))\n",
    "print(\"not operator a\",not a)\n",
    "print(\"not operator b\",not b)"
   ]
  },
  {
   "cell_type": "code",
   "execution_count": null,
   "id": "3b101765",
   "metadata": {},
   "outputs": [],
   "source": []
  }
 ],
 "metadata": {
  "kernelspec": {
   "display_name": "Python 3",
   "language": "python",
   "name": "python3"
  },
  "language_info": {
   "codemirror_mode": {
    "name": "ipython",
    "version": 3
   },
   "file_extension": ".py",
   "mimetype": "text/x-python",
   "name": "python",
   "nbconvert_exporter": "python",
   "pygments_lexer": "ipython3",
   "version": "3.8.8"
  }
 },
 "nbformat": 4,
 "nbformat_minor": 5
}
